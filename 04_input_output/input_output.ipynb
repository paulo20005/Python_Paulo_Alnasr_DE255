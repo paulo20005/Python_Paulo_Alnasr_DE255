{
 "cells": [
  {
   "cell_type": "code",
   "execution_count": 1,
   "id": "d602c5f9",
   "metadata": {},
   "outputs": [
    {
     "name": "stdout",
     "output_type": "stream",
     "text": [
      "helloooo\n"
     ]
    }
   ],
   "source": [
    "print(\"helloooo\")"
   ]
  }
 ],
 "metadata": {
  "kernelspec": {
   "display_name": "Python_Paulo_Alnasr_DE255-1",
   "language": "python",
   "name": "python3"
  },
  "language_info": {
   "codemirror_mode": {
    "name": "ipython",
    "version": 3
   },
   "file_extension": ".py",
   "mimetype": "text/x-python",
   "name": "python",
   "nbconvert_exporter": "python",
   "pygments_lexer": "ipython3",
   "version": "3.12.10"
  }
 },
 "nbformat": 4,
 "nbformat_minor": 5
}
